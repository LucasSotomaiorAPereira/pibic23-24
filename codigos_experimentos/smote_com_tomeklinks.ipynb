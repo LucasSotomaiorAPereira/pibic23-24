{
  "nbformat": 4,
  "nbformat_minor": 0,
  "metadata": {
    "colab": {
      "provenance": []
    },
    "kernelspec": {
      "name": "python3",
      "display_name": "Python 3"
    },
    "language_info": {
      "name": "python"
    }
  },
  "cells": [
    {
      "cell_type": "code",
      "source": [
        "import pandas as pd                                                                                       # data frame\n",
        "from sklearn.model_selection import RepeatedStratifiedKFold, GridSearchCV                                             # validacao cruzada e repitida\n",
        "from imblearn.pipeline import Pipeline                                                                    # aplicar o smote apenas nos subjconjuntos de treinamento\n",
        "from sklearn.naive_bayes import GaussianNB                                                                # NB\n",
        "from sklearn.ensemble import RandomForestClassifier                                                       # random forest\n",
        "from sklearn.tree import DecisionTreeClassifier                                                           # tree\n",
        "from sklearn.neural_network import MLPClassifier                                                          # MPL\n",
        "from sklearn.svm import SVC                                                                               # svm\n",
        "from sklearn.metrics import confusion_matrix, precision_score, recall_score, f1_score                     # importa as métricas\n",
        "from imblearn.combine import SMOTETomek                                                            # TomekLinks"
      ],
      "metadata": {
        "id": "z5v8DGb1X6-h"
      },
      "execution_count": null,
      "outputs": []
    },
    {
      "cell_type": "code",
      "source": [
        "# lê os dados do arquivo irish.csv\n",
        "df = pd.read_csv('/content/irish.csv')\n",
        "\n",
        "# divide x e y\n",
        "X = df.drop('class', axis=1)\n",
        "y = df['class']"
      ],
      "metadata": {
        "id": "IFkXz5Oxd8mc"
      },
      "execution_count": null,
      "outputs": []
    },
    {
      "cell_type": "code",
      "source": [
        "pipeline = Pipeline([\n",
        "    ('sampling', SMOTETomek(sampling_strategy='all', random_state=15)),\n",
        "    ('gnb', GaussianNB())\n",
        "])\n",
        "\n",
        "model = 'Naive Bayes'"
      ],
      "metadata": {
        "id": "5jIXPgrWeFAu"
      },
      "execution_count": null,
      "outputs": []
    },
    {
      "cell_type": "code",
      "source": [
        "pipeline = Pipeline([\n",
        "    ('sampling', SMOTETomek(sampling_strategy='all', random_state=15)),\n",
        "    ('gnb', RandomForestClassifier())\n",
        "])\n",
        "\n",
        "model = 'Random Forest'"
      ],
      "metadata": {
        "id": "-7_nyIZ2e_ve"
      },
      "execution_count": null,
      "outputs": []
    },
    {
      "cell_type": "code",
      "source": [
        "pipeline = Pipeline([\n",
        "    ('sampling', SMOTETomek(sampling_strategy='all', random_state=15)),\n",
        "    ('gnb', DecisionTreeClassifier())\n",
        "])\n",
        "\n",
        "model = 'Decision Tree'"
      ],
      "metadata": {
        "id": "Bl1544bXfAsk"
      },
      "execution_count": null,
      "outputs": []
    },
    {
      "cell_type": "code",
      "source": [
        "pipeline = Pipeline([\n",
        "    ('sampling', SMOTETomek(sampling_strategy='all', random_state=15)),\n",
        "    ('gnb', MLPClassifier())\n",
        "])\n",
        "\n",
        "model = 'Multilayer Perceptron'"
      ],
      "metadata": {
        "id": "mytkZAYCg0n6"
      },
      "execution_count": null,
      "outputs": []
    },
    {
      "cell_type": "code",
      "source": [
        "pipeline = Pipeline([\n",
        "    ('sampling', SMOTETomek(sampling_strategy='all', random_state=15)),\n",
        "    ('gnb', SVC())\n",
        "])\n",
        "\n",
        "model = 'SVM'"
      ],
      "metadata": {
        "id": "y7Hz52sjg0mV"
      },
      "execution_count": null,
      "outputs": []
    },
    {
      "cell_type": "code",
      "source": [
        "# validadação cruzada\n",
        "rskf = RepeatedStratifiedKFold(n_splits=10, n_repeats=1, random_state=15)"
      ],
      "metadata": {
        "id": "l3ioEsuNeE_I"
      },
      "execution_count": null,
      "outputs": []
    },
    {
      "cell_type": "code",
      "source": [
        "# printa as classes\n",
        "classes = sorted(y.unique())\n",
        "print(f\"Classes: {classes}\")"
      ],
      "metadata": {
        "id": "stUQ-dbneNcg"
      },
      "execution_count": null,
      "outputs": []
    },
    {
      "cell_type": "code",
      "source": [
        "# Armazena os resultados\n",
        "def storage(classes, score, precision, recall, f1, cm, i):\n",
        "  results = []\n",
        "\n",
        "  results.append({\n",
        "    'Accuracy': score,\n",
        "    'Precision': precision,\n",
        "    'Recall': recall,\n",
        "    'F-measure': f1\n",
        "  })\n",
        "\n",
        "  cm_df = pd.DataFrame(cm)\n",
        "\n",
        "  # Cria um DataFrame com os resultados\n",
        "  results_df = pd.DataFrame(results)\n",
        "\n",
        "  classes_df = pd.DataFrame(classes)\n",
        "\n",
        "  combined_df = pd.concat([results_df, classes_df], axis = 1)\n",
        "  combined_df = pd.concat([combined_df, cm_df], axis = 1)\n",
        "\n",
        "\n",
        "  # Salva o DataFrame em um arquivo Excel\n",
        "  combined_df.to_excel('resultados_experimento_divisao10' + model + str(i) + '.xlsx', index=False)"
      ],
      "metadata": {
        "id": "o9tBf0XTmoS7"
      },
      "execution_count": null,
      "outputs": []
    },
    {
      "cell_type": "code",
      "source": [
        "for train_index, test_index in rskf.split(X, y):\n",
        "    # dividi os dados em treino e teste\n",
        "    X_train, X_test = X.iloc[train_index], X.iloc[test_index]\n",
        "    y_train, y_test = y.iloc[train_index], y.iloc[test_index]\n",
        "\n",
        "    # usa o pipe do imblearn para aplicar o smote apenas nos subjconjuntos de treinamento\n",
        "    pipeline.fit(X_train, y_train)\n",
        "\n",
        "    # usa os subconjuntos de teste para testar e obter as metricas\n",
        "    score = pipeline.score(X_test, y_test)                                      # acuracia\n",
        "\n",
        "    print(\"Session accuracy:\", score)\n",
        "\n",
        "    # matrizes de confusao\n",
        "    y_pred = pipeline.predict(X_test)\n",
        "    cm = confusion_matrix(y_test, y_pred)\n",
        "\n",
        "    precision = precision_score(y_test, y_pred, average='weighted')             # precisao\n",
        "    recall = recall_score(y_test, y_pred, average='weighted')                   # recall\n",
        "    f1 = f1_score(y_test, y_pred, average='weighted')                           # f-measure\n",
        "\n",
        "    print(\"Precision: \", precision)\n",
        "    print(\"Recall: \", recall)\n",
        "    print(\"F-measure: \", f1)\n",
        "\n",
        "    print(cm, \"\\n\")"
      ],
      "metadata": {
        "id": "qYmLLoYYeQLa"
      },
      "execution_count": null,
      "outputs": []
    }
  ]
}